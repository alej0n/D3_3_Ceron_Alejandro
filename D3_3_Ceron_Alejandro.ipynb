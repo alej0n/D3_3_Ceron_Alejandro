{
  "nbformat": 4,
  "nbformat_minor": 0,
  "metadata": {
    "colab": {
      "provenance": []
    },
    "kernelspec": {
      "name": "python3",
      "display_name": "Python 3"
    },
    "language_info": {
      "name": "python"
    }
  },
  "cells": [
    {
      "cell_type": "code",
      "execution_count": 1,
      "metadata": {
        "id": "GtH49YyW6hSY"
      },
      "outputs": [],
      "source": [
        "import pandas as pd\n",
        "import numpy as np\n",
        "import matplotlib.pyplot as plt\n",
        "import seaborn as sns\n",
        "from sklearn.cluster import DBSCAN\n",
        "from sklearn.ensemble import IsolationForest\n",
        "from sklearn.metrics import confusion_matrix"
      ]
    },
    {
      "cell_type": "code",
      "source": [
        "# Загрузка данных\n",
        "data = pd.read_csv(\"skab_valve_1.csv\", sep=';', parse_dates=['datetime'])\n",
        "data['datetime'] = pd.to_datetime(data['datetime'], errors='coerce')"
      ],
      "metadata": {
        "id": "NVtsQX4y6ibq"
      },
      "execution_count": null,
      "outputs": []
    },
    {
      "cell_type": "code",
      "source": [
        "# Отображение первых строк данных\n",
        "print(data.head())"
      ],
      "metadata": {
        "id": "FzIhbStv6kpi"
      },
      "execution_count": null,
      "outputs": []
    },
    {
      "cell_type": "code",
      "source": [
        "# Поиск аномалий с использованием IQR\n",
        "def detect_anomalies_iqr(data, column):\n",
        "    # Вычисление первого (Q1) и третьего (Q3) квартилей\n",
        "    Q1 = data[column].quantile(0.25)\n",
        "    Q3 = data[column].quantile(0.75)\n",
        "    # Вычисление интерквартильного размаха (IQR)\n",
        "    IQR = Q3 - Q1\n",
        "    # Определение границ для аномалий\n",
        "    lower_bound_1_5 = Q1 - (1.5 * IQR)\n",
        "    upper_bound_1_5 = Q3 + (1.5 * IQR)\n",
        "    lower_bound_3 = Q1 - (3 * IQR)\n",
        "    upper_bound_3 = Q3 + (3 * IQR)\n",
        "\n",
        "    return lower_bound_1_5, upper_bound_1_5, lower_bound_3, upper_bound_3"
      ],
      "metadata": {
        "id": "ilZ6sluu6pzt"
      },
      "execution_count": null,
      "outputs": []
    },
    {
      "cell_type": "code",
      "source": [
        "# Аномалии для термопары\n",
        "column = 'Thermocouple'\n",
        "lower_bound_1_5, upper_bound_1_5, lower_bound_3, upper_bound_3 = detect_anomalies_iqr(data, column)"
      ],
      "metadata": {
        "id": "gpNgO7zp6saM"
      },
      "execution_count": null,
      "outputs": []
    },
    {
      "cell_type": "code",
      "source": [
        "# Обозначение аномалий в данных\n",
        "data['anomaly_iqr_1_5'] = ((data[column] < lower_bound_1_5) | (data[column] > upper_bound_1_5)).astype(int)\n",
        "data['anomaly_iqr_3'] = ((data[column] < lower_bound_3) | (data[column] > upper_bound_3)).astype(int)"
      ],
      "metadata": {
        "id": "t3smwPTB6umC"
      },
      "execution_count": null,
      "outputs": []
    },
    {
      "cell_type": "code",
      "source": [
        "# Визуализация данных с аномалиями\n",
        "plt.figure(figsize=(14, 7))\n",
        "plt.plot(data['datetime'], data['Thermocouple'], label='Температура термопары')\n",
        "plt.scatter(data['datetime'][data['anomaly_iqr_1_5'] == 1],\n",
        "            data['Thermocouple'][data['anomaly_iqr_1_5'] == 1],\n",
        "            color='red', label='Аномалии (1.5 IQR)')\n",
        "plt.scatter(data['datetime'][data['anomaly_iqr_3'] == 1],\n",
        "            data['Thermocouple'][data['anomaly_iqr_3'] == 1],\n",
        "            color='orange', label='Аномалии (3 IQR)')\n",
        "plt.title(\"Выявление аномалий в данных термопары\")\n",
        "plt.xlabel(\"Дата и время\")\n",
        "plt.ylabel(\"Температура термопары\")\n",
        "plt.legend()\n",
        "plt.show()"
      ],
      "metadata": {
        "id": "ie4GLcOV6wXu"
      },
      "execution_count": null,
      "outputs": []
    },
    {
      "cell_type": "code",
      "source": [
        "# Confusion matrix для IQR\n",
        "conf_matrix_iqr_1_5 = confusion_matrix(data['anomaly'], data['anomaly_iqr_1_5'])\n",
        "conf_matrix_iqr_3 = confusion_matrix(data['anomaly'], data['anomaly_iqr_3'])\n",
        "print(\"Матрица ошибок (1.5 IQR):\\n\", conf_matrix_iqr_1_5)\n",
        "print(\"Матрица ошибок (3 IQR):\\n\", conf_matrix_iqr_3)"
      ],
      "metadata": {
        "id": "6TQD-9hw6yla"
      },
      "execution_count": null,
      "outputs": []
    },
    {
      "cell_type": "code",
      "source": [
        "# Создание новых признаков для Feature Engineering\n",
        "data['hour'] = data['datetime'].dt.hour  # Час\n",
        "data['day_of_week'] = data['datetime'].dt.dayofweek  # День недели\n",
        "data['month'] = data['datetime'].dt.month  # Месяц\n",
        "data['rolling_mean'] = data['Thermocouple'].rolling(window=5).mean()  # Скользящее среднее\n",
        "data['rolling_std'] = data['Thermocouple'].rolling(window=5).std()  # Скользящее стандартное отклонение"
      ],
      "metadata": {
        "id": "2MjjFzIp60Fa"
      },
      "execution_count": null,
      "outputs": []
    },
    {
      "cell_type": "code",
      "source": [
        "# Кластеризация с использованием DBSCAN\n",
        "features = data[['Accelerometer1RMS', 'Accelerometer2RMS', 'Current', 'Pressure',\n",
        "                 'Temperature', 'Thermocouple', 'Voltage', 'Volume Flow RateRMS',\n",
        "                 'hour', 'day_of_week', 'month', 'rolling_mean', 'rolling_std']].fillna(0)"
      ],
      "metadata": {
        "id": "yEcOqYXy618i"
      },
      "execution_count": null,
      "outputs": []
    },
    {
      "cell_type": "code",
      "source": [
        "# Фильтрация аномалий на основе кластеризации\n",
        "data['anomaly_dbscan'] = (data['dbscan_labels'] == -1).astype(int)"
      ],
      "metadata": {
        "id": "kw83g7kV66NI"
      },
      "execution_count": null,
      "outputs": []
    },
    {
      "cell_type": "code",
      "source": [
        "# Визуализация результатов DBSCAN\n",
        "plt.figure(figsize=(14, 7))\n",
        "plt.scatter(data['datetime'], data['Thermocouple'], c=data['dbscan_labels'], cmap='coolwarm', label='Кластеры DBSCAN')\n",
        "plt.title(\"Кластеризация данных термопары с помощью DBSCAN\")\n",
        "plt.xlabel(\"Дата и время\")\n",
        "plt.ylabel(\"Температура термопары\")\n",
        "plt.colorbar(label='Метка кластера')\n",
        "plt.show()"
      ],
      "metadata": {
        "id": "-hn8_pvT671a"
      },
      "execution_count": null,
      "outputs": []
    },
    {
      "cell_type": "code",
      "source": [
        "conf_matrix_dbscan = confusion_matrix(data['anomaly'], data['anomaly_dbscan'])\n",
        "print(\"Матрица ошибок (DBSCAN):\\n\", conf_matrix_dbscan)"
      ],
      "metadata": {
        "id": "QP2AGnzh6-Ep"
      },
      "execution_count": null,
      "outputs": []
    },
    {
      "cell_type": "code",
      "source": [
        "iso_forest = IsolationForest(contamination=0.1)\n",
        "data['iso_anomaly'] = iso_forest.fit_predict(features)\n",
        "data['iso_anomaly'] = data['iso_anomaly'].map({1: 0, -1: 1})  # Преобразуем -1 и 1 в 1 и 0"
      ],
      "metadata": {
        "id": "D1a0iy5J7AE0"
      },
      "execution_count": null,
      "outputs": []
    },
    {
      "cell_type": "code",
      "source": [
        "# Визуализация результатов Isolation Forest\n",
        "plt.figure(figsize=(14, 7))\n",
        "plt.plot(data['datetime'], data['Thermocouple'], label='Данные термопары')\n",
        "plt.scatter(data['datetime'][data['iso_anomaly'] == 1],\n",
        "            data['Thermocouple'][data['iso_anomaly'] == 1],\n",
        "            color='green', label='Аномалии Isolation Forest')\n",
        "plt.title(\"Выявление аномалий с помощью Isolation Forest\")\n",
        "plt.xlabel(\"Дата и время\")\n",
        "plt.ylabel(\"Температура термопары\")\n",
        "plt.legend()\n",
        "plt.show()"
      ],
      "metadata": {
        "id": "i9YcH2547CFL"
      },
      "execution_count": null,
      "outputs": []
    },
    {
      "cell_type": "code",
      "source": [
        "# Confusion matrix для Isolation Forest\n",
        "conf_matrix_iso = confusion_matrix(data['anomaly'], data['iso_anomaly'])\n",
        "print(\"Матрица ошибок (Isolation Forest):\\n\", conf_matrix_iso)"
      ],
      "metadata": {
        "id": "GlAy1GU77Eel"
      },
      "execution_count": null,
      "outputs": []
    }
  ]
}